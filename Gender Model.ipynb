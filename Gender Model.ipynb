{
 "cells": [
  {
   "cell_type": "markdown",
   "metadata": {
    "id": "cunxfKGPFLW5"
   },
   "source": [
    "## **Importing Libraries**"
   ]
  },
  {
   "cell_type": "code",
   "execution_count": 1,
   "metadata": {
    "id": "Mc3M_WPOFR8e"
   },
   "outputs": [],
   "source": [
    "# Importing Libraries\n",
    "\n",
    "import numpy as np\n",
    "\n",
    "import matplotlib.pyplot as plt\n",
    "%matplotlib inline\n",
    "plt.style.use('bmh')\n",
    "\n",
    "import pandas as pd\n",
    "\n",
    "from scipy.io import loadmat\n",
    "\n",
    "from sklearn.preprocessing import LabelEncoder\n",
    "from sklearn.model_selection import train_test_split\n",
    "\n",
    "import tensorflow as tf\n",
    "from tensorflow import keras\n",
    "from tensorflow.keras.preprocessing.image import load_img, img_to_array\n",
    "from tensorflow.keras.applications.efficientnet import EfficientNetB4\n",
    "from tensorflow.keras.layers import Dropout, Flatten, Dense, GlobalAveragePooling2D\n",
    "from keras.layers.core import Activation, Dropout, Lambda, Dense\n",
    "from keras.layers.convolutional import Conv2D, MaxPooling2D\n",
    "from keras.layers import BatchNormalization\n",
    "from keras.callbacks import ModelCheckpoint\n",
    "from keras.layers import Flatten, Input\n",
    "from keras.optimizers import Adam\n",
    "from keras.models import Model\n",
    "from keras import regularizers"
   ]
  },
  {
   "cell_type": "markdown",
   "metadata": {
    "id": "D2lvzcj2P-Mk"
   },
   "source": [
    "## **Downloading and Extracting the Datasets**"
   ]
  },
  {
   "cell_type": "code",
   "execution_count": null,
   "metadata": {
    "colab": {
     "base_uri": "https://localhost:8080/"
    },
    "id": "xPg7N19zIoOX",
    "outputId": "2593855c-9534-49e1-c430-ef0f71bdbff8"
   },
   "outputs": [
    {
     "name": "stdout",
     "output_type": "stream",
     "text": [
      "--2023-04-26 17:08:32--  https://data.vision.ee.ethz.ch/cvl/rrothe/imdb-wiki/static/imdb_crop.tar\n",
      "Resolving data.vision.ee.ethz.ch (data.vision.ee.ethz.ch)... 129.132.52.178, 2001:67c:10ec:36c2::178\n",
      "Connecting to data.vision.ee.ethz.ch (data.vision.ee.ethz.ch)|129.132.52.178|:443... connected.\n",
      "HTTP request sent, awaiting response... 200 OK\n",
      "Length: 7012157440 (6.5G) [application/x-tar]\n",
      "Saving to: ‘imdb_crop.tar’\n",
      "\n",
      "imdb_crop.tar         0%[                    ] 200.00K   315KB/s               ^C\n"
     ]
    }
   ],
   "source": [
    "# Reading IMDb Data\n",
    "!wget https://data.vision.ee.ethz.ch/cvl/rrothe/imdb-wiki/static/imdb_crop.tar"
   ]
  },
  {
   "cell_type": "code",
   "execution_count": 2,
   "metadata": {
    "colab": {
     "base_uri": "https://localhost:8080/"
    },
    "id": "StAdI35BHg5h",
    "outputId": "4b0b5457-0855-41d7-d399-7821d39989e0"
   },
   "outputs": [
    {
     "name": "stdout",
     "output_type": "stream",
     "text": [
      "--2023-04-26 21:39:56--  https://data.vision.ee.ethz.ch/cvl/rrothe/imdb-wiki/static/wiki_crop.tar\n",
      "Resolving data.vision.ee.ethz.ch (data.vision.ee.ethz.ch)... 129.132.52.178, 2001:67c:10ec:36c2::178\n",
      "Connecting to data.vision.ee.ethz.ch (data.vision.ee.ethz.ch)|129.132.52.178|:443... connected.\n",
      "HTTP request sent, awaiting response... 200 OK\n",
      "Length: 811315200 (774M) [application/x-tar]\n",
      "Saving to: ‘wiki_crop.tar’\n",
      "\n",
      "wiki_crop.tar       100%[===================>] 773.73M  24.2MB/s    in 35s     \n",
      "\n",
      "2023-04-26 21:40:31 (22.1 MB/s) - ‘wiki_crop.tar’ saved [811315200/811315200]\n",
      "\n"
     ]
    }
   ],
   "source": [
    "# Reading Wiki Data\n",
    "!wget https://data.vision.ee.ethz.ch/cvl/rrothe/imdb-wiki/static/wiki_crop.tar"
   ]
  },
  {
   "cell_type": "code",
   "execution_count": 3,
   "metadata": {
    "id": "_0tpfGAgI08F"
   },
   "outputs": [],
   "source": [
    "# Extracting the Data\n",
    "!tar -xf imdb_crop.tar\n",
    "!tar -xf wiki_crop.tar"
   ]
  },
  {
   "cell_type": "markdown",
   "metadata": {
    "id": "cFL1yfrEQUjS"
   },
   "source": [
    "## **Loading the Data**"
   ]
  },
  {
   "cell_type": "code",
   "execution_count": 4,
   "metadata": {
    "id": "CCNmUuIJK1vz"
   },
   "outputs": [],
   "source": [
    "# Loading the data\n",
    "imdb_data = loadmat('imdb_crop/imdb.mat')\n",
    "wiki_data = loadmat('wiki_crop/wiki.mat')\n",
    "\n",
    "imdb = imdb_data['imdb']\n",
    "wiki = wiki_data['wiki']"
   ]
  },
  {
   "cell_type": "markdown",
   "metadata": {
    "id": "1nO1X_b9igWW"
   },
   "source": [
    "## **Data Preprocessing**"
   ]
  },
  {
   "cell_type": "code",
   "execution_count": null,
   "metadata": {
    "colab": {
     "base_uri": "https://localhost:8080/"
    },
    "id": "B9lfN9qcDNkq",
    "outputId": "6bbdf374-5f64-4e2d-bf95-4f48b7c04300"
   },
   "outputs": [
    {
     "name": "stdout",
     "output_type": "stream",
     "text": [
      "Error with gender:\n",
      "......................................................................................................................................................................................................................................................................................................................................................................................................................................................................................................................................................................................................................................................................................................................................................................................................................................................................................................................................................................................................................................................................................................................................................................................................................................................................................................................................................................................................................................................................................................................................................................................................................................................................................................................................................................................................................................................................................................................................................................................................................................................................................................................................................................................................................................................................................................................................................................................................................................................................................................................................................................................................................................................................................................................................................................................................................................................................................................................................................................................................................................................\n",
      "Clean IMDb Data count: 181531\n"
     ]
    }
   ],
   "source": [
    "# Processing the IMDb Dataset\n",
    "\n",
    "imdb_path = []\n",
    "imdb_age = []\n",
    "imdb_genders = []\n",
    "imdb_len = 460723\n",
    "\n",
    "count = 0\n",
    "f = True\n",
    "\n",
    "for i in range(imdb_len):\n",
    "    imdb_dob = int(imdb[0][0][0][0][i]/365)\n",
    "    imdb_photo_date = imdb[0][0][1][0][i]\n",
    "    imdb_full_path = imdb[0][0][2][0][i][0]\n",
    "    imdb_gender = imdb[0][0][3][0][i]\n",
    "    FaceScore1 = imdb[0][0][6][0][i]\n",
    "    FaceScore2 = imdb[0][0][7][0][i] \n",
    "    \n",
    "    FaceScore1 = str(FaceScore1)\n",
    "    FaceScore2 = str(FaceScore2)\n",
    "    # Calculating the Age\n",
    "    age = imdb_photo_date - imdb_dob\n",
    "    \n",
    "    if 'inf' not in FaceScore1:\n",
    "        if 'nan' in FaceScore2:\n",
    "            if age >= 0: \n",
    "                try:\n",
    "                    gender = int(imdb_gender)\n",
    "                    imdb_path.append('imdb_crop/' + imdb_full_path)\n",
    "                    imdb_age.append(age)\n",
    "                    imdb_genders.append(gender)\n",
    "                    count += 1\n",
    "                except:\n",
    "                    if f:\n",
    "                      print('Error with gender:')\n",
    "                      f = False\n",
    "                    print('.', end='')\n",
    "                    continue\n",
    "print('\\nClean IMDb Data count:', count)"
   ]
  },
  {
   "cell_type": "code",
   "execution_count": 5,
   "metadata": {
    "colab": {
     "base_uri": "https://localhost:8080/"
    },
    "id": "ebHbtv-DDFn-",
    "outputId": "b9975238-cc68-4bea-d02d-88d3af262ddf"
   },
   "outputs": [
    {
     "name": "stdout",
     "output_type": "stream",
     "text": [
      "Error with gender:\n",
      "........................................................................................................................................................................................................................................................................................................................................................................................................................................................................................................................................................................................................................................................................................................................................................................................\n",
      "Clean Wiki Data count: 39448\n"
     ]
    }
   ],
   "source": [
    "# Processing the Wiki Dataset\n",
    "\n",
    "wiki_path = []\n",
    "wiki_age = []\n",
    "wiki_genders = []\n",
    "wiki_len = 62328\n",
    "\n",
    "count = 0\n",
    "f = True\n",
    "\n",
    "for i in range(wiki_len):\n",
    "    wiki_dob = int(wiki[0][0][0][0][i]/365)\n",
    "    wiki_photo_date = wiki[0][0][1][0][i]\n",
    "    wiki_full_path = wiki[0][0][2][0][i][0]\n",
    "    wiki_gender = wiki[0][0][3][0][i]\n",
    "    FaceScore1 = wiki[0][0][6][0][i]\n",
    "    FaceScore2 = wiki[0][0][7][0][i]\n",
    "    \n",
    "    FaceScore1 = str(FaceScore1)\n",
    "    FaceScore2 = str(FaceScore2)\n",
    "    # Calculating the Age\n",
    "    age = wiki_photo_date - wiki_dob \n",
    "    \n",
    "    if 'inf' not in FaceScore1:\n",
    "        if 'nan' in FaceScore2:\n",
    "            if age >= 0: \n",
    "                try:\n",
    "                    gender = int(wiki_gender)\n",
    "                    wiki_path.append('wiki_crop/' + wiki_full_path)\n",
    "                    wiki_age.append(age)\n",
    "                    wiki_genders.append(gender)\n",
    "                    count += 1\n",
    "                except:\n",
    "                    if f:\n",
    "                        print('Error with gender:')\n",
    "                        f = False\n",
    "                    print('.', end='')\n",
    "                    continue\n",
    "print('\\nClean Wiki Data count:', count)"
   ]
  },
  {
   "cell_type": "markdown",
   "metadata": {
    "id": "Z7SV8_aXhXcf"
   },
   "source": [
    "## **Saving the Preprocessed data as csv files**"
   ]
  },
  {
   "cell_type": "code",
   "execution_count": 6,
   "metadata": {
    "id": "PIaJXgNWDF1l"
   },
   "outputs": [],
   "source": [
    "# Reading the Data Features\n",
    "cols = ['path', 'age', 'gender']\n",
    "\n",
    "# Storing the processed data\n",
    "clean_imdb = np.vstack((imdb_path, imdb_age, imdb_genders)).T\n",
    "clean_wiki = np.vstack((wiki_path, wiki_age, wiki_genders)).T\n",
    "\n",
    "# Saving as DataFrames\n",
    "clean_imdb_df = pd.DataFrame(clean_imdb)\n",
    "clean_wiki_df = pd.DataFrame(clean_wiki)\n",
    "\n",
    "# Labelling the Columns in the DataFrame\n",
    "clean_imdb_df.columns = cols\n",
    "clean_wiki_df.columns = cols\n",
    "\n",
    "# Merging the Datasets: IMDb and Wiki\n",
    "final_df = pd.concat((clean_imdb_df, clean_wiki_df))\n",
    "\n",
    "# Shuffling the order of the data\n",
    "final_df = final_df.sample(frac=1)\n",
    "\n",
    "# Saving the DataFrame into a csv file for later use\n",
    "final_df.to_csv('data.csv', index=False)"
   ]
  },
  {
   "cell_type": "markdown",
   "metadata": {
    "id": "QBXIXspOQfLn"
   },
   "source": [
    "## **Splitting the Data into Training and Testing Sets**"
   ]
  },
  {
   "cell_type": "code",
   "execution_count": 7,
   "metadata": {
    "id": "E_eXe39NNBGL"
   },
   "outputs": [],
   "source": [
    "# Loading the data\n",
    "data = pd.read_csv('data.csv')\n",
    "\n",
    "# Splitting the Data into Training, Validation, and Test sets with a ratio of 90-10\n",
    "train_data, data_test = train_test_split(data, test_size = 0.1, random_state=30)\n",
    "\n",
    "data_train, data_val = train_test_split(train_data, test_size=0.1, random_state=43)\n",
    "\n",
    "# Saving the Training, Validation, and Test data into csv files for later use\n",
    "data_train.to_csv('data_train.csv', index=False)\n",
    "data_val.to_csv('data_val.csv', index=False)\n",
    "data_test.to_csv('data_test.csv', index=False)"
   ]
  },
  {
   "cell_type": "markdown",
   "metadata": {
    "id": "J7YLAjXEmuYS"
   },
   "source": [
    "## **Necessary Functions**"
   ]
  },
  {
   "cell_type": "code",
   "execution_count": 9,
   "metadata": {
    "id": "9H8pI9KSj89x"
   },
   "outputs": [],
   "source": [
    "# Defining the generator function\n",
    "def image_generator(data, batch_size=32, D=128):\n",
    "    while True:\n",
    "        # Shuffling the data\n",
    "        data = data.sample(frac=1)\n",
    "        # Looping through the data in batches for better use of RAM\n",
    "        for i in range(0, len(data), batch_size):\n",
    "            # Loading the images and labels for the current batch\n",
    "            batch = data.iloc[i:i+batch_size]\n",
    "            x = np.array([img_to_array(load_img(path, target_size=(D, D))) for path in batch['path']])\n",
    "            y = label_encoder.transform(batch['gender'])\n",
    "            yield x, y"
   ]
  },
  {
   "cell_type": "code",
   "execution_count": 10,
   "metadata": {
    "id": "vV-K84CpidIm"
   },
   "outputs": [],
   "source": [
    "def plot_learning_curve(n_epochs, history):\n",
    "    '''\n",
    "    This function plots the learning curve.\n",
    "    '''\n",
    "    accuracy = history['accuracy']\n",
    "    val_accuracy = history['val_accuracy']\n",
    "\n",
    "    loss = history['loss']\n",
    "    val_loss = history['val_loss']\n",
    "\n",
    "    epochs_range = range(n_epochs)\n",
    "\n",
    "    plt.figure(figsize=(14,7))\n",
    "    plt.subplot(1, 2, 1)\n",
    "    plt.plot(epochs_range, accuracy, label='Training Accuracy')\n",
    "    plt.plot(epochs_range, val_accuracy, label='Validation Accuracy')\n",
    "    plt.axis([-0.25,n_epochs,0,1])\n",
    "    plt.legend(loc='lower right')\n",
    "    plt.title('Training and Validation Accuracy')\n",
    "\n",
    "    plt.subplot(1, 2, 2)\n",
    "    plt.plot(epochs_range, loss, label='Training Loss')\n",
    "    plt.plot(epochs_range, val_loss, label='Validation Loss')\n",
    "    plt.axis([-0.25,n_epochs,0,max(max(val_loss),max(loss))])\n",
    "    plt.legend(loc='upper right')\n",
    "    plt.title('Training and Validation Loss')\n",
    "    plt.show()"
   ]
  },
  {
   "cell_type": "markdown",
   "metadata": {
    "id": "Oo5dfw2EFGEx"
   },
   "source": [
    "## **Choosing Model Training Parameters**"
   ]
  },
  {
   "cell_type": "code",
   "execution_count": 11,
   "metadata": {
    "colab": {
     "base_uri": "https://localhost:8080/",
     "height": 74
    },
    "id": "ePVBbVayJpe0",
    "outputId": "fdf2bf31-ee56-4aee-a99c-10dfe2ebf443"
   },
   "outputs": [
    {
     "data": {
      "text/html": [
       "<style>#sk-container-id-1 {color: black;background-color: white;}#sk-container-id-1 pre{padding: 0;}#sk-container-id-1 div.sk-toggleable {background-color: white;}#sk-container-id-1 label.sk-toggleable__label {cursor: pointer;display: block;width: 100%;margin-bottom: 0;padding: 0.3em;box-sizing: border-box;text-align: center;}#sk-container-id-1 label.sk-toggleable__label-arrow:before {content: \"▸\";float: left;margin-right: 0.25em;color: #696969;}#sk-container-id-1 label.sk-toggleable__label-arrow:hover:before {color: black;}#sk-container-id-1 div.sk-estimator:hover label.sk-toggleable__label-arrow:before {color: black;}#sk-container-id-1 div.sk-toggleable__content {max-height: 0;max-width: 0;overflow: hidden;text-align: left;background-color: #f0f8ff;}#sk-container-id-1 div.sk-toggleable__content pre {margin: 0.2em;color: black;border-radius: 0.25em;background-color: #f0f8ff;}#sk-container-id-1 input.sk-toggleable__control:checked~div.sk-toggleable__content {max-height: 200px;max-width: 100%;overflow: auto;}#sk-container-id-1 input.sk-toggleable__control:checked~label.sk-toggleable__label-arrow:before {content: \"▾\";}#sk-container-id-1 div.sk-estimator input.sk-toggleable__control:checked~label.sk-toggleable__label {background-color: #d4ebff;}#sk-container-id-1 div.sk-label input.sk-toggleable__control:checked~label.sk-toggleable__label {background-color: #d4ebff;}#sk-container-id-1 input.sk-hidden--visually {border: 0;clip: rect(1px 1px 1px 1px);clip: rect(1px, 1px, 1px, 1px);height: 1px;margin: -1px;overflow: hidden;padding: 0;position: absolute;width: 1px;}#sk-container-id-1 div.sk-estimator {font-family: monospace;background-color: #f0f8ff;border: 1px dotted black;border-radius: 0.25em;box-sizing: border-box;margin-bottom: 0.5em;}#sk-container-id-1 div.sk-estimator:hover {background-color: #d4ebff;}#sk-container-id-1 div.sk-parallel-item::after {content: \"\";width: 100%;border-bottom: 1px solid gray;flex-grow: 1;}#sk-container-id-1 div.sk-label:hover label.sk-toggleable__label {background-color: #d4ebff;}#sk-container-id-1 div.sk-serial::before {content: \"\";position: absolute;border-left: 1px solid gray;box-sizing: border-box;top: 0;bottom: 0;left: 50%;z-index: 0;}#sk-container-id-1 div.sk-serial {display: flex;flex-direction: column;align-items: center;background-color: white;padding-right: 0.2em;padding-left: 0.2em;position: relative;}#sk-container-id-1 div.sk-item {position: relative;z-index: 1;}#sk-container-id-1 div.sk-parallel {display: flex;align-items: stretch;justify-content: center;background-color: white;position: relative;}#sk-container-id-1 div.sk-item::before, #sk-container-id-1 div.sk-parallel-item::before {content: \"\";position: absolute;border-left: 1px solid gray;box-sizing: border-box;top: 0;bottom: 0;left: 50%;z-index: -1;}#sk-container-id-1 div.sk-parallel-item {display: flex;flex-direction: column;z-index: 1;position: relative;background-color: white;}#sk-container-id-1 div.sk-parallel-item:first-child::after {align-self: flex-end;width: 50%;}#sk-container-id-1 div.sk-parallel-item:last-child::after {align-self: flex-start;width: 50%;}#sk-container-id-1 div.sk-parallel-item:only-child::after {width: 0;}#sk-container-id-1 div.sk-dashed-wrapped {border: 1px dashed gray;margin: 0 0.4em 0.5em 0.4em;box-sizing: border-box;padding-bottom: 0.4em;background-color: white;}#sk-container-id-1 div.sk-label label {font-family: monospace;font-weight: bold;display: inline-block;line-height: 1.2em;}#sk-container-id-1 div.sk-label-container {text-align: center;}#sk-container-id-1 div.sk-container {/* jupyter's `normalize.less` sets `[hidden] { display: none; }` but bootstrap.min.css set `[hidden] { display: none !important; }` so we also need the `!important` here to be able to override the default hidden behavior on the sphinx rendered scikit-learn.org. See: https://github.com/scikit-learn/scikit-learn/issues/21755 */display: inline-block !important;position: relative;}#sk-container-id-1 div.sk-text-repr-fallback {display: none;}</style><div id=\"sk-container-id-1\" class=\"sk-top-container\"><div class=\"sk-text-repr-fallback\"><pre>LabelEncoder()</pre><b>In a Jupyter environment, please rerun this cell to show the HTML representation or trust the notebook. <br />On GitHub, the HTML representation is unable to render, please try loading this page with nbviewer.org.</b></div><div class=\"sk-container\" hidden><div class=\"sk-item\"><div class=\"sk-estimator sk-toggleable\"><input class=\"sk-toggleable__control sk-hidden--visually\" id=\"sk-estimator-id-1\" type=\"checkbox\" checked><label for=\"sk-estimator-id-1\" class=\"sk-toggleable__label sk-toggleable__label-arrow\">LabelEncoder</label><div class=\"sk-toggleable__content\"><pre>LabelEncoder()</pre></div></div></div></div></div>"
      ],
      "text/plain": [
       "LabelEncoder()"
      ]
     },
     "execution_count": 11,
     "metadata": {},
     "output_type": "execute_result"
    }
   ],
   "source": [
    "# Loading the data\n",
    "data_train = pd.read_csv('data_train.csv')\n",
    "data_val = pd.read_csv('data_val.csv')\n",
    "data_test = pd.read_csv('data_test.csv')\n",
    "\n",
    "# Creating a label encoder to encode the target variable\n",
    "label_encoder = LabelEncoder()\n",
    "label_encoder.fit(data_train['gender'])"
   ]
  },
  {
   "cell_type": "code",
   "execution_count": 12,
   "metadata": {
    "id": "4N_kVNzrJu3z"
   },
   "outputs": [],
   "source": [
    "# Defining the batch size and Image size\n",
    "batch_size = 32\n",
    "D = 224\n",
    "\n",
    "# Creating the image generators for Training, Validation, and Testing\n",
    "train_generator = image_generator(data_train, batch_size, D)\n",
    "val_generator = image_generator(data_val, batch_size, D)\n",
    "test_generator = image_generator(data_test, batch_size, D)"
   ]
  },
  {
   "cell_type": "markdown",
   "metadata": {
    "id": "g32ujf73hOhQ"
   },
   "source": [
    "## **Gender Classification Model**"
   ]
  },
  {
   "cell_type": "code",
   "execution_count": 15,
   "metadata": {
    "colab": {
     "base_uri": "https://localhost:8080/"
    },
    "id": "m1adcqXsfnJK",
    "outputId": "b2070411-8d5c-4758-99b4-9abc3c9ca644"
   },
   "outputs": [
    {
     "name": "stdout",
     "output_type": "stream",
     "text": [
      "Model: \"sequential\"\n",
      "_________________________________________________________________\n",
      " Layer (type)                Output Shape              Param #   \n",
      "=================================================================\n",
      " dense_2 (Dense)             (None, 224, 224, 256)     1024      \n",
      "                                                                 \n",
      " conv2d_2 (Conv2D)           (None, 224, 224, 16)      36880     \n",
      "                                                                 \n",
      " activation_3 (Activation)   (None, 224, 224, 16)      0         \n",
      "                                                                 \n",
      " batch_normalization_3 (Batc  (None, 224, 224, 16)     64        \n",
      " hNormalization)                                                 \n",
      "                                                                 \n",
      " max_pooling2d_2 (MaxPooling  (None, 74, 74, 16)       0         \n",
      " 2D)                                                             \n",
      "                                                                 \n",
      " dropout_3 (Dropout)         (None, 74, 74, 16)        0         \n",
      "                                                                 \n",
      " conv2d_3 (Conv2D)           (None, 74, 74, 32)        4640      \n",
      "                                                                 \n",
      " activation_4 (Activation)   (None, 74, 74, 32)        0         \n",
      "                                                                 \n",
      " batch_normalization_4 (Batc  (None, 74, 74, 32)       128       \n",
      " hNormalization)                                                 \n",
      "                                                                 \n",
      " max_pooling2d_3 (MaxPooling  (None, 37, 37, 32)       0         \n",
      " 2D)                                                             \n",
      "                                                                 \n",
      " dropout_4 (Dropout)         (None, 37, 37, 32)        0         \n",
      "                                                                 \n",
      " flatten_1 (Flatten)         (None, 43808)             0         \n",
      "                                                                 \n",
      " dense_3 (Dense)             (None, 128)               5607552   \n",
      "                                                                 \n",
      " activation_5 (Activation)   (None, 128)               0         \n",
      "                                                                 \n",
      " batch_normalization_5 (Batc  (None, 128)              512       \n",
      " hNormalization)                                                 \n",
      "                                                                 \n",
      " dropout_5 (Dropout)         (None, 128)               0         \n",
      "                                                                 \n",
      " dense_4 (Dense)             (None, 2)                 258       \n",
      "                                                                 \n",
      " gender_output (Activation)  (None, 2)                 0         \n",
      "                                                                 \n",
      "=================================================================\n",
      "Total params: 5,651,058\n",
      "Trainable params: 5,650,706\n",
      "Non-trainable params: 352\n",
      "_________________________________________________________________\n"
     ]
    }
   ],
   "source": [
    "# Building the Model\n",
    "\n",
    "Gender_model = tf.keras.Sequential([\n",
    "    \n",
    "    Dense(256, input_shape=(D, D, 3)),\n",
    "\n",
    "    Conv2D(16, (3, 3), padding=\"same\"),\n",
    "    Activation(\"relu\"),\n",
    "    BatchNormalization(axis=-1),\n",
    "\n",
    "    MaxPooling2D(pool_size=(3, 3)),\n",
    "    Dropout(0.25),\n",
    "\n",
    "    Conv2D(32, (3, 3), padding=\"same\"),\n",
    "    Activation(\"relu\"),\n",
    "    BatchNormalization(axis=-1),\n",
    "\n",
    "    MaxPooling2D(pool_size=(2, 2)),\n",
    "    Dropout(0.25),\n",
    "    \n",
    "    Flatten(),\n",
    "    \n",
    "    Dense(128),\n",
    "    Activation(\"relu\"),\n",
    "    BatchNormalization(),\n",
    "    Dropout(0.5),\n",
    "    \n",
    "    Dense(len(label_encoder.classes_)),\n",
    "    Activation(\"sigmoid\", name=\"gender_output\")\n",
    "\n",
    "])\n",
    "\n",
    "Gender_model.summary()"
   ]
  },
  {
   "cell_type": "markdown",
   "metadata": {
    "id": "aKL8EL0Sifir"
   },
   "source": [
    "### **Training**"
   ]
  },
  {
   "cell_type": "code",
   "execution_count": 19,
   "metadata": {
    "colab": {
     "base_uri": "https://localhost:8080/"
    },
    "id": "Ab6JBLObfoEc",
    "outputId": "2c3319a2-64c2-4a21-f29e-0514e56e8db5"
   },
   "outputs": [
    {
     "name": "stdout",
     "output_type": "stream",
     "text": [
      "Epoch 1/6\n",
      "998/998 [==============================] - 293s 291ms/step - loss: 0.2842 - accuracy: 0.8814 - val_loss: 0.3054 - val_accuracy: 0.8767\n",
      "Epoch 2/6\n",
      "998/998 [==============================] - 298s 299ms/step - loss: 0.2725 - accuracy: 0.8873 - val_loss: 0.2977 - val_accuracy: 0.8776\n",
      "Epoch 3/6\n",
      "998/998 [==============================] - 299s 300ms/step - loss: 0.2433 - accuracy: 0.8997 - val_loss: 0.2740 - val_accuracy: 0.8861\n",
      "Epoch 4/6\n",
      "998/998 [==============================] - 299s 300ms/step - loss: 0.2203 - accuracy: 0.9107 - val_loss: 0.2866 - val_accuracy: 0.8790\n",
      "Epoch 5/6\n",
      "998/998 [==============================] - 299s 300ms/step - loss: 0.2042 - accuracy: 0.9188 - val_loss: 0.2907 - val_accuracy: 0.8923\n",
      "Epoch 6/6\n",
      "998/998 [==============================] - 290s 291ms/step - loss: 0.1858 - accuracy: 0.9255 - val_loss: 0.2962 - val_accuracy: 0.8966\n"
     ]
    }
   ],
   "source": [
    "# Compiling the model\n",
    "Gender_model.compile(optimizer='adam',\n",
    "                      loss='sparse_categorical_crossentropy',\n",
    "                      metrics=['accuracy'])\n",
    "\n",
    "# Early-stopping to restore the best weights\n",
    "callback = keras.callbacks.EarlyStopping(monitor='val_loss',\n",
    "                                         patience=3,\n",
    "                                         restore_best_weights=True)\n",
    "\n",
    "# Training the model\n",
    "history = Gender_model.fit(train_generator,\n",
    "                            epochs=6,\n",
    "                            batch_size=batch_size,\n",
    "                            steps_per_epoch=len(data_train)//batch_size,\n",
    "                            validation_steps=len(data_val)//batch_size,\n",
    "                            validation_data=val_generator,\n",
    "                            callbacks=[callback])\n",
    "\n",
    "# Saving the model with the trained weights\n",
    "Gender_model.save('GenderClassificationModel.h5')####################"
   ]
  },
  {
   "cell_type": "code",
   "execution_count": 18,
   "metadata": {
    "id": "-1XT5w8LppcW"
   },
   "outputs": [],
   "source": [
    "Gender_model = tf.keras.models.load_model('GenderClassificationModel.h5')"
   ]
  },
  {
   "cell_type": "code",
   "execution_count": 20,
   "metadata": {
    "colab": {
     "base_uri": "https://localhost:8080/",
     "height": 568
    },
    "id": "RndhxJ_8GCll",
    "outputId": "5533f339-b98c-4ac6-ed5d-d6ad713e9e19"
   },
   "outputs": [
    {
     "name": "stdout",
     "output_type": "stream",
     "text": [
      "\n",
      "Training completed in  6 epochs\n",
      "The Accuracy on Validation Dataset is: 89.66%\n"
     ]
    },
    {
     "data": {
      "image/png": "[encoded data removed]",
      "text/plain": [
       "<Figure size 1400x700 with 2 Axes>"
      ]
     },
     "metadata": {},
     "output_type": "display_data"
    }
   ],
   "source": [
    "n_epochs = len(history.history['loss'])\n",
    "print(\"\\nTraining completed in \", n_epochs, \"epochs\")\n",
    "print('The Accuracy on Validation Dataset is: %.2f%%'%(np.max(history.history['val_accuracy'])*100))\n",
    "\n",
    "# Plotting the learning curve\n",
    "plot_learning_curve(n_epochs, history.history)"
   ]
  },
  {
   "cell_type": "markdown",
   "metadata": {
    "id": "XlTs6sMm5nuY"
   },
   "source": [
    "### **Testing**"
   ]
  },
  {
   "cell_type": "code",
   "execution_count": 21,
   "metadata": {
    "colab": {
     "base_uri": "https://localhost:8080/"
    },
    "id": "9_OubD-Z6sG7",
    "outputId": "c9186f13-dc42-4a7c-fbc6-8c5cca16e82d"
   },
   "outputs": [
    {
     "name": "stdout",
     "output_type": "stream",
     "text": [
      "3945/3945 [==============================] - 409s 104ms/step - loss: 0.2909 - accuracy: 0.8773\n",
      "Test loss = 0.29\n",
      "Test Accuracy = 87.73%\n"
     ]
    }
   ],
   "source": [
    "loss, acc = Gender_model.evaluate(test_generator, steps=len(data_test), verbose=1)\n",
    "\n",
    "print(f'Test loss = {loss:.2f}')\n",
    "print(f'Test Accuracy = {acc*100:.2f}%')"
   ]
  },
  {
   "cell_type": "code",
   "execution_count": null,
   "metadata": {
    "id": "azBnBQQ4e_gd"
   },
   "outputs": [],
   "source": []
  }
 ],
 "metadata": {
  "accelerator": "GPU",
  "colab": {
   "collapsed_sections": [
    "D2lvzcj2P-Mk",
    "cFL1yfrEQUjS",
    "1nO1X_b9igWW",
    "Z7SV8_aXhXcf",
    "ZeA1xckG48o4",
    "sHbFhJhh42O4"
   ],
   "provenance": []
  },
  "gpuClass": "standard",
  "kernelspec": {
   "display_name": "Python 3 (ipykernel)",
   "language": "python",
   "name": "python3"
  },
  "language_info": {
   "codemirror_mode": {
    "name": "ipython",
    "version": 3
   },
   "file_extension": ".py",
   "mimetype": "text/x-python",
   "name": "python",
   "nbconvert_exporter": "python",
   "pygments_lexer": "ipython3",
   "version": "3.9.12"
  }
 },
 "nbformat": 4,
 "nbformat_minor": 1
}
