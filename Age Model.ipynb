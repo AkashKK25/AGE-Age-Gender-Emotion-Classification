{
 "cells": [
  {
   "cell_type": "markdown",
   "metadata": {
    "id": "cunxfKGPFLW5"
   },
   "source": [
    "## **Importing Libraries**"
   ]
  },
  {
   "cell_type": "code",
   "execution_count": 70,
   "metadata": {
    "id": "Mc3M_WPOFR8e"
   },
   "outputs": [],
   "source": [
    "# Importing Libraries\n",
    "\n",
    "import numpy as np\n",
    "\n",
    "import matplotlib.pyplot as plt\n",
    "%matplotlib inline\n",
    "plt.style.use('bmh')\n",
    "\n",
    "import pandas as pd\n",
    "\n",
    "from scipy.io import loadmat\n",
    "\n",
    "from sklearn.preprocessing import LabelEncoder\n",
    "from sklearn.model_selection import train_test_split\n",
    "\n",
    "import tensorflow as tf\n",
    "from tensorflow import keras\n",
    "from tensorflow.keras.preprocessing.image import load_img, img_to_array\n",
    "from tensorflow.keras.applications.efficientnet import EfficientNetB4\n",
    "from tensorflow.keras.layers import Dropout, Flatten, Dense, GlobalAveragePooling2D\n",
    "from keras.layers.core import Activation, Dropout, Lambda, Dense\n",
    "from keras.layers.convolutional import Conv2D, MaxPooling2D\n",
    "from keras.layers import BatchNormalization\n",
    "from keras.callbacks import ModelCheckpoint\n",
    "from keras.layers import Flatten, Input\n",
    "from keras.optimizers import Adam\n",
    "from keras.models import Model\n",
    "from keras import regularizers"
   ]
  },
  {
   "cell_type": "markdown",
   "metadata": {
    "id": "D2lvzcj2P-Mk"
   },
   "source": [
    "## **Downloading and Extracting the Datasets**"
   ]
  },
  {
   "cell_type": "code",
   "execution_count": 2,
   "metadata": {
    "colab": {
     "base_uri": "https://localhost:8080/"
    },
    "id": "xPg7N19zIoOX",
    "outputId": "2593855c-9534-49e1-c430-ef0f71bdbff8"
   },
   "outputs": [
    {
     "name": "stdout",
     "output_type": "stream",
     "text": [
      "--2023-04-26 17:08:32--  https://data.vision.ee.ethz.ch/cvl/rrothe/imdb-wiki/static/imdb_crop.tar\n",
      "Resolving data.vision.ee.ethz.ch (data.vision.ee.ethz.ch)... 129.132.52.178, 2001:67c:10ec:36c2::178\n",
      "Connecting to data.vision.ee.ethz.ch (data.vision.ee.ethz.ch)|129.132.52.178|:443... connected.\n",
      "HTTP request sent, awaiting response... 200 OK\n",
      "Length: 7012157440 (6.5G) [application/x-tar]\n",
      "Saving to: ‘imdb_crop.tar’\n",
      "\n",
      "imdb_crop.tar         0%[                    ] 200.00K   315KB/s               ^C\n"
     ]
    }
   ],
   "source": [
    "# Reading IMDb Data\n",
    "!wget https://data.vision.ee.ethz.ch/cvl/rrothe/imdb-wiki/static/imdb_crop.tar"
   ]
  },
  {
   "cell_type": "code",
   "execution_count": 3,
   "metadata": {
    "colab": {
     "base_uri": "https://localhost:8080/"
    },
    "id": "StAdI35BHg5h",
    "outputId": "9440d8ff-0c67-407e-89d5-d29018adcb8c"
   },
   "outputs": [
    {
     "name": "stdout",
     "output_type": "stream",
     "text": [
      "--2023-04-26 17:08:38--  https://data.vision.ee.ethz.ch/cvl/rrothe/imdb-wiki/static/wiki_crop.tar\n",
      "Resolving data.vision.ee.ethz.ch (data.vision.ee.ethz.ch)... 129.132.52.178, 2001:67c:10ec:36c2::178\n",
      "Connecting to data.vision.ee.ethz.ch (data.vision.ee.ethz.ch)|129.132.52.178|:443... connected.\n",
      "HTTP request sent, awaiting response... 200 OK\n",
      "Length: 811315200 (774M) [application/x-tar]\n",
      "Saving to: ‘wiki_crop.tar’\n",
      "\n",
      "wiki_crop.tar       100%[===================>] 773.73M  14.8MB/s    in 54s     \n",
      "\n",
      "2023-04-26 17:09:34 (14.2 MB/s) - ‘wiki_crop.tar’ saved [811315200/811315200]\n",
      "\n"
     ]
    }
   ],
   "source": [
    "# Reading Wiki Data\n",
    "!wget https://data.vision.ee.ethz.ch/cvl/rrothe/imdb-wiki/static/wiki_crop.tar"
   ]
  },
  {
   "cell_type": "code",
   "execution_count": 4,
   "metadata": {
    "id": "_0tpfGAgI08F"
   },
   "outputs": [],
   "source": [
    "# Extracting the Data\n",
    "!tar -xf imdb_crop.tar\n",
    "!tar -xf wiki_crop.tar"
   ]
  },
  {
   "cell_type": "markdown",
   "metadata": {
    "id": "cFL1yfrEQUjS"
   },
   "source": [
    "## **Loading the Data**"
   ]
  },
  {
   "cell_type": "code",
   "execution_count": 5,
   "metadata": {
    "id": "CCNmUuIJK1vz"
   },
   "outputs": [],
   "source": [
    "# Loading the data\n",
    "imdb_data = loadmat('imdb_crop/imdb.mat')\n",
    "wiki_data = loadmat('wiki_crop/wiki.mat')\n",
    "\n",
    "#imdb = imdb_data['imdb']\n",
    "wiki = wiki_data['wiki']"
   ]
  },
  {
   "cell_type": "markdown",
   "metadata": {
    "id": "1nO1X_b9igWW"
   },
   "source": [
    "## **Data Preprocessing**"
   ]
  },
  {
   "cell_type": "code",
   "execution_count": null,
   "metadata": {
    "colab": {
     "base_uri": "https://localhost:8080/"
    },
    "id": "B9lfN9qcDNkq",
    "outputId": "6bbdf374-5f64-4e2d-bf95-4f48b7c04300"
   },
   "outputs": [
    {
     "name": "stdout",
     "output_type": "stream",
     "text": [
      "Error with gender:\n",
      "......................................................................................................................................................................................................................................................................................................................................................................................................................................................................................................................................................................................................................................................................................................................................................................................................................................................................................................................................................................................................................................................................................................................................................................................................................................................................................................................................................................................................................................................................................................................................................................................................................................................................................................................................................................................................................................................................................................................................................................................................................................................................................................................................................................................................................................................................................................................................................................................................................................................................................................................................................................................................................................................................................................................................................................................................................................................................................................................................................................................................................................................\n",
      "Clean IMDb Data count: 181531\n"
     ]
    }
   ],
   "source": [
    "# Processing the IMDb Dataset\n",
    "\n",
    "imdb_path = []\n",
    "imdb_age = []\n",
    "imdb_genders = []\n",
    "imdb_len = 460723\n",
    "\n",
    "count = 0\n",
    "f = True\n",
    "\n",
    "for i in range(imdb_len):\n",
    "    imdb_dob = int(imdb[0][0][0][0][i]/365)\n",
    "    imdb_photo_date = imdb[0][0][1][0][i]\n",
    "    imdb_full_path = imdb[0][0][2][0][i][0]\n",
    "    imdb_gender = imdb[0][0][3][0][i]\n",
    "    FaceScore1 = imdb[0][0][6][0][i]\n",
    "    FaceScore2 = imdb[0][0][7][0][i] \n",
    "    \n",
    "    FaceScore1 = str(FaceScore1)\n",
    "    FaceScore2 = str(FaceScore2)\n",
    "    # Calculating the Age\n",
    "    age = imdb_photo_date - imdb_dob\n",
    "    \n",
    "    if 'inf' not in FaceScore1:\n",
    "        if 'nan' in FaceScore2:\n",
    "            if age >= 0: \n",
    "                try:\n",
    "                    gender = int(imdb_gender)\n",
    "                    imdb_path.append('imdb_crop/' + imdb_full_path)\n",
    "                    imdb_age.append(age)\n",
    "                    imdb_genders.append(gender)\n",
    "                    count += 1\n",
    "                except:\n",
    "                    if f:\n",
    "                      print('Error with gender:')\n",
    "                      f = False\n",
    "                    print('.', end='')\n",
    "                    continue\n",
    "print('\\nClean IMDb Data count:', count)"
   ]
  },
  {
   "cell_type": "code",
   "execution_count": 6,
   "metadata": {
    "colab": {
     "base_uri": "https://localhost:8080/"
    },
    "id": "ebHbtv-DDFn-",
    "outputId": "5d06eb96-ddb0-4430-a2b7-d59cafe9c13b"
   },
   "outputs": [
    {
     "name": "stdout",
     "output_type": "stream",
     "text": [
      "Error with gender:\n",
      "........................................................................................................................................................................................................................................................................................................................................................................................................................................................................................................................................................................................................................................................................................................................................................................................\n",
      "Clean Wiki Data count: 39448\n"
     ]
    }
   ],
   "source": [
    "# Processing the Wiki Dataset\n",
    "\n",
    "wiki_path = []\n",
    "wiki_age = []\n",
    "wiki_genders = []\n",
    "wiki_len = 62328\n",
    "\n",
    "count = 0\n",
    "f = True\n",
    "\n",
    "for i in range(wiki_len):\n",
    "    wiki_dob = int(wiki[0][0][0][0][i]/365)\n",
    "    wiki_photo_date = wiki[0][0][1][0][i]\n",
    "    wiki_full_path = wiki[0][0][2][0][i][0]\n",
    "    wiki_gender = wiki[0][0][3][0][i]\n",
    "    FaceScore1 = wiki[0][0][6][0][i]\n",
    "    FaceScore2 = wiki[0][0][7][0][i]\n",
    "    \n",
    "    FaceScore1 = str(FaceScore1)\n",
    "    FaceScore2 = str(FaceScore2)\n",
    "    # Calculating the Age\n",
    "    age = wiki_photo_date - wiki_dob \n",
    "    \n",
    "    if 'inf' not in FaceScore1:\n",
    "        if 'nan' in FaceScore2:\n",
    "            if age >= 0: \n",
    "                try:\n",
    "                    gender = int(wiki_gender)\n",
    "                    wiki_path.append('wiki_crop/' + wiki_full_path)\n",
    "                    wiki_age.append(age)\n",
    "                    wiki_genders.append(gender)\n",
    "                    count += 1\n",
    "                except:\n",
    "                    if f:\n",
    "                        print('Error with gender:')\n",
    "                        f = False\n",
    "                    print('.', end='')\n",
    "                    continue\n",
    "print('\\nClean Wiki Data count:', count)"
   ]
  },
  {
   "cell_type": "markdown",
   "metadata": {
    "id": "Z7SV8_aXhXcf"
   },
   "source": [
    "## **Saving the Preprocessed data as csv files**"
   ]
  },
  {
   "cell_type": "code",
   "execution_count": 7,
   "metadata": {
    "id": "PIaJXgNWDF1l"
   },
   "outputs": [],
   "source": [
    "# Reading the Data Features\n",
    "cols = ['path', 'age', 'gender']\n",
    "\n",
    "# Storing the processed data\n",
    "clean_imdb = np.vstack((imdb_path, imdb_age, imdb_genders)).T\n",
    "clean_wiki = np.vstack((wiki_path, wiki_age, wiki_genders)).T\n",
    "\n",
    "# Saving as DataFrames\n",
    "clean_imdb_df = pd.DataFrame(clean_imdb)\n",
    "clean_wiki_df = pd.DataFrame(clean_wiki)\n",
    "\n",
    "# Labelling the Columns in the DataFrame\n",
    "clean_imdb_df.columns = cols\n",
    "clean_wiki_df.columns = cols\n",
    "\n",
    "# Merging the Datasets: IMDb and Wiki\n",
    "final_df = pd.concat((clean_imdb_df, clean_wiki_df))\n",
    "\n",
    "# Shuffling the order of the data\n",
    "final_df = final_df.sample(frac=1)\n",
    "\n",
    "# Saving the DataFrame into a csv file for later use\n",
    "final_df.to_csv('data.csv', index=False)"
   ]
  },
  {
   "cell_type": "markdown",
   "metadata": {
    "id": "ZeA1xckG48o4"
   },
   "source": [
    "## **Classifying 'Age' into Bins**"
   ]
  },
  {
   "cell_type": "code",
   "execution_count": 8,
   "metadata": {
    "id": "TPSzG8_UgmES"
   },
   "outputs": [],
   "source": [
    "# Loading the saved complete data\n",
    "data = pd.read_csv('data.csv')\n",
    "\n",
    "# Defining the boundaries for age bins\n",
    "age_bins = [0, 10, 20, 30, 40, 50, 60, 70, 80, 90, 100]\n",
    "\n",
    "# Defining the labels for age bins\n",
    "age_labels = [\"0-10\", \"10-20\", \"20-30\", \"30-40\", \"40-50\", \"50-60\", \"60-70\", \"70-80\", \"80-90\", \"90-100\"]\n",
    "\n",
    "# Creating a new column in the dataframe with the bin labels\n",
    "data['age_group'] = pd.cut(data['age'], bins=age_bins, labels=age_labels)\n",
    "data['age_group'] = data['age_group'].astype(str)\n",
    "\n",
    "data.to_csv('data.csv', index=False)"
   ]
  },
  {
   "cell_type": "markdown",
   "metadata": {
    "id": "QBXIXspOQfLn"
   },
   "source": [
    "## **Splitting the Data into Training and Testing Sets**"
   ]
  },
  {
   "cell_type": "code",
   "execution_count": 52,
   "metadata": {
    "id": "E_eXe39NNBGL"
   },
   "outputs": [],
   "source": [
    "# Loading the data\n",
    "data = pd.read_csv('data.csv')\n",
    "\n",
    "# Splitting the Data into Training, Validation, and Test sets with a ratio of 90-10\n",
    "data = data[data['age'] != -1]\n",
    "train_data, data_test = train_test_split(data, test_size = 0.1, random_state=30)\n",
    "\n",
    "data_train, data_val = train_test_split(train_data, test_size=0.1, random_state=43)\n",
    "\n",
    "# Saving the Training, Validation, and Test data into csv files for later use\n",
    "data_train.to_csv('data_train.csv', index=False)\n",
    "data_val.to_csv('data_val.csv', index=False)\n",
    "data_test.to_csv('data_test.csv', index=False)"
   ]
  },
  {
   "cell_type": "markdown",
   "metadata": {
    "id": "J7YLAjXEmuYS"
   },
   "source": [
    "## **Necessary Functions**"
   ]
  },
  {
   "cell_type": "code",
   "execution_count": 53,
   "metadata": {
    "id": "9H8pI9KSj89x"
   },
   "outputs": [],
   "source": [
    "# Defining the generator function\n",
    "def image_generator(data, batch_size=32, D=128):\n",
    "    while True:\n",
    "        # Shuffling the data\n",
    "        data = data.sample(frac=1)\n",
    "        # Looping through the data in batches for better use of RAM\n",
    "        for i in range(0, len(data), batch_size):\n",
    "            # Loading the images and labels for the current batch\n",
    "            batch = data.iloc[i:i+batch_size]\n",
    "            x = np.array([img_to_array(load_img(path, target_size=(D, D))) for path in batch['path']])\n",
    "            y = label_encoder.transform(batch['age_group'])\n",
    "            yield x, y"
   ]
  },
  {
   "cell_type": "code",
   "execution_count": 64,
   "metadata": {
    "id": "vV-K84CpidIm"
   },
   "outputs": [],
   "source": [
    "def plot_learning_curve(n_epochs, history):\n",
    "    '''\n",
    "    This function plots the learning curve.\n",
    "    '''\n",
    "    accuracy = history['accuracy']\n",
    "    val_accuracy = history['val_accuracy']\n",
    "\n",
    "    loss = history['loss']\n",
    "    val_loss = history['val_loss']\n",
    "\n",
    "    epochs_range = range(n_epochs)\n",
    "\n",
    "    plt.figure(figsize=(14,7))\n",
    "    plt.subplot(1, 2, 1)\n",
    "    plt.plot(epochs_range, accuracy, label='Training Accuracy')\n",
    "    plt.plot(epochs_range, val_accuracy, label='Validation Accuracy')\n",
    "    plt.axis([-0.25,n_epochs,0,1])\n",
    "    plt.legend(loc='lower right')\n",
    "    plt.title('Training and Validation Accuracy')\n",
    "\n",
    "    plt.subplot(1, 2, 2)\n",
    "    plt.plot(epochs_range, loss, label='Training Loss')\n",
    "    plt.plot(epochs_range, val_loss, label='Validation Loss')\n",
    "    plt.axis([-0.25,n_epochs,0,max(max(val_loss),max(loss))])\n",
    "    plt.legend(loc='upper right')\n",
    "    plt.title('Training and Validation Loss')\n",
    "    plt.show()"
   ]
  },
  {
   "cell_type": "markdown",
   "metadata": {
    "id": "Oo5dfw2EFGEx"
   },
   "source": [
    "## **Choosing Model Training Parameters**"
   ]
  },
  {
   "cell_type": "code",
   "execution_count": 55,
   "metadata": {
    "colab": {
     "base_uri": "https://localhost:8080/",
     "height": 74
    },
    "id": "ePVBbVayJpe0",
    "outputId": "663e7f6a-7db1-4ac3-bbe5-0a6f538a040d"
   },
   "outputs": [
    {
     "data": {
      "text/html": [
       "<style>#sk-container-id-4 {color: black;background-color: white;}#sk-container-id-4 pre{padding: 0;}#sk-container-id-4 div.sk-toggleable {background-color: white;}#sk-container-id-4 label.sk-toggleable__label {cursor: pointer;display: block;width: 100%;margin-bottom: 0;padding: 0.3em;box-sizing: border-box;text-align: center;}#sk-container-id-4 label.sk-toggleable__label-arrow:before {content: \"▸\";float: left;margin-right: 0.25em;color: #696969;}#sk-container-id-4 label.sk-toggleable__label-arrow:hover:before {color: black;}#sk-container-id-4 div.sk-estimator:hover label.sk-toggleable__label-arrow:before {color: black;}#sk-container-id-4 div.sk-toggleable__content {max-height: 0;max-width: 0;overflow: hidden;text-align: left;background-color: #f0f8ff;}#sk-container-id-4 div.sk-toggleable__content pre {margin: 0.2em;color: black;border-radius: 0.25em;background-color: #f0f8ff;}#sk-container-id-4 input.sk-toggleable__control:checked~div.sk-toggleable__content {max-height: 200px;max-width: 100%;overflow: auto;}#sk-container-id-4 input.sk-toggleable__control:checked~label.sk-toggleable__label-arrow:before {content: \"▾\";}#sk-container-id-4 div.sk-estimator input.sk-toggleable__control:checked~label.sk-toggleable__label {background-color: #d4ebff;}#sk-container-id-4 div.sk-label input.sk-toggleable__control:checked~label.sk-toggleable__label {background-color: #d4ebff;}#sk-container-id-4 input.sk-hidden--visually {border: 0;clip: rect(1px 1px 1px 1px);clip: rect(1px, 1px, 1px, 1px);height: 1px;margin: -1px;overflow: hidden;padding: 0;position: absolute;width: 1px;}#sk-container-id-4 div.sk-estimator {font-family: monospace;background-color: #f0f8ff;border: 1px dotted black;border-radius: 0.25em;box-sizing: border-box;margin-bottom: 0.5em;}#sk-container-id-4 div.sk-estimator:hover {background-color: #d4ebff;}#sk-container-id-4 div.sk-parallel-item::after {content: \"\";width: 100%;border-bottom: 1px solid gray;flex-grow: 1;}#sk-container-id-4 div.sk-label:hover label.sk-toggleable__label {background-color: #d4ebff;}#sk-container-id-4 div.sk-serial::before {content: \"\";position: absolute;border-left: 1px solid gray;box-sizing: border-box;top: 0;bottom: 0;left: 50%;z-index: 0;}#sk-container-id-4 div.sk-serial {display: flex;flex-direction: column;align-items: center;background-color: white;padding-right: 0.2em;padding-left: 0.2em;position: relative;}#sk-container-id-4 div.sk-item {position: relative;z-index: 1;}#sk-container-id-4 div.sk-parallel {display: flex;align-items: stretch;justify-content: center;background-color: white;position: relative;}#sk-container-id-4 div.sk-item::before, #sk-container-id-4 div.sk-parallel-item::before {content: \"\";position: absolute;border-left: 1px solid gray;box-sizing: border-box;top: 0;bottom: 0;left: 50%;z-index: -1;}#sk-container-id-4 div.sk-parallel-item {display: flex;flex-direction: column;z-index: 1;position: relative;background-color: white;}#sk-container-id-4 div.sk-parallel-item:first-child::after {align-self: flex-end;width: 50%;}#sk-container-id-4 div.sk-parallel-item:last-child::after {align-self: flex-start;width: 50%;}#sk-container-id-4 div.sk-parallel-item:only-child::after {width: 0;}#sk-container-id-4 div.sk-dashed-wrapped {border: 1px dashed gray;margin: 0 0.4em 0.5em 0.4em;box-sizing: border-box;padding-bottom: 0.4em;background-color: white;}#sk-container-id-4 div.sk-label label {font-family: monospace;font-weight: bold;display: inline-block;line-height: 1.2em;}#sk-container-id-4 div.sk-label-container {text-align: center;}#sk-container-id-4 div.sk-container {/* jupyter's `normalize.less` sets `[hidden] { display: none; }` but bootstrap.min.css set `[hidden] { display: none !important; }` so we also need the `!important` here to be able to override the default hidden behavior on the sphinx rendered scikit-learn.org. See: https://github.com/scikit-learn/scikit-learn/issues/21755 */display: inline-block !important;position: relative;}#sk-container-id-4 div.sk-text-repr-fallback {display: none;}</style><div id=\"sk-container-id-4\" class=\"sk-top-container\"><div class=\"sk-text-repr-fallback\"><pre>LabelEncoder()</pre><b>In a Jupyter environment, please rerun this cell to show the HTML representation or trust the notebook. <br />On GitHub, the HTML representation is unable to render, please try loading this page with nbviewer.org.</b></div><div class=\"sk-container\" hidden><div class=\"sk-item\"><div class=\"sk-estimator sk-toggleable\"><input class=\"sk-toggleable__control sk-hidden--visually\" id=\"sk-estimator-id-4\" type=\"checkbox\" checked><label for=\"sk-estimator-id-4\" class=\"sk-toggleable__label sk-toggleable__label-arrow\">LabelEncoder</label><div class=\"sk-toggleable__content\"><pre>LabelEncoder()</pre></div></div></div></div></div>"
      ],
      "text/plain": [
       "LabelEncoder()"
      ]
     },
     "execution_count": 55,
     "metadata": {},
     "output_type": "execute_result"
    }
   ],
   "source": [
    "# Loading the data\n",
    "data_train = pd.read_csv('data_train.csv')\n",
    "data_val = pd.read_csv('data_val.csv')\n",
    "data_test = pd.read_csv('data_test.csv')\n",
    "\n",
    "# Creating a label encoder to encode the target variable\n",
    "label_encoder = LabelEncoder()\n",
    "label_encoder.fit(data_train['age_group'])"
   ]
  },
  {
   "cell_type": "code",
   "execution_count": 56,
   "metadata": {
    "id": "4N_kVNzrJu3z"
   },
   "outputs": [],
   "source": [
    "# Defining the batch size and Image size\n",
    "batch_size = 32\n",
    "D = 224\n",
    "\n",
    "# Creating the image generators for Training, Validation, and Testing\n",
    "train_generator = image_generator(data_train, batch_size, D)\n",
    "val_generator = image_generator(data_val, batch_size, D)\n",
    "test_generator = image_generator(data_test, batch_size, D)"
   ]
  },
  {
   "cell_type": "markdown",
   "metadata": {
    "id": "5Ymzb-EBGbfy"
   },
   "source": [
    "## **Age Classification Model**"
   ]
  },
  {
   "cell_type": "code",
   "execution_count": 59,
   "metadata": {
    "colab": {
     "base_uri": "https://localhost:8080/"
    },
    "id": "dT-fd-k-O7rQ",
    "outputId": "e9fa331e-3fec-4f06-8cbe-0660e4dcc043"
   },
   "outputs": [
    {
     "name": "stdout",
     "output_type": "stream",
     "text": [
      "Model: \"sequential\"\n",
      "_________________________________________________________________\n",
      " Layer (type)                Output Shape              Param #   \n",
      "=================================================================\n",
      " model_1 (Functional)        (None, 7, 7, 160)         1040064   \n",
      "                                                                 \n",
      " global_average_pooling2d_1   (None, 160)              0         \n",
      " (GlobalAveragePooling2D)                                        \n",
      "                                                                 \n",
      " dropout_1 (Dropout)         (None, 160)               0         \n",
      "                                                                 \n",
      " dense (Dense)               (None, 128)               20608     \n",
      "                                                                 \n",
      " dense_1 (Dense)             (None, 11)                1419      \n",
      "                                                                 \n",
      "=================================================================\n",
      "Total params: 1,062,091\n",
      "Trainable params: 1,039,499\n",
      "Non-trainable params: 22,592\n",
      "_________________________________________________________________\n"
     ]
    }
   ],
   "source": [
    "# Importing the pre-trained MobileNetV2 model with Imagenet Weights\n",
    "base_model = tf.keras.applications.MobileNetV2(input_shape=(D, D, 3), include_top=False, weights='imagenet')\n",
    "base_model.trainable = True\n",
    "\n",
    "# Removing the last 23 layers in the base model to avoid overfitting\n",
    "model_trunc = Model(base_model.input, base_model.layers[-23].output)\n",
    "\n",
    "# Defining the model by adding few layers with regularization\n",
    "Age_cls_model = tf.keras.Sequential([\n",
    "    model_trunc,\n",
    "\n",
    "    tf.keras.layers.GlobalAveragePooling2D(),\n",
    "    tf.keras.layers.Dropout(0.5),\n",
    "\n",
    "    Dense(128, activation='relu', kernel_regularizer=regularizers.l1(0.3)),\n",
    "\n",
    "    tf.keras.layers.Dense(len(label_encoder.classes_), activation='softmax')\n",
    "])\n",
    "\n",
    "Age_cls_model.summary()"
   ]
  },
  {
   "cell_type": "code",
   "execution_count": 61,
   "metadata": {
    "id": "ZINVPEoslNDN"
   },
   "outputs": [],
   "source": [
    "Age_cls_model = tf.keras.models.load_model('MobileNet_gggg.h5')"
   ]
  },
  {
   "cell_type": "markdown",
   "metadata": {
    "id": "KELgt_CO0mGM"
   },
   "source": [
    "### **Training**"
   ]
  },
  {
   "cell_type": "code",
   "execution_count": 62,
   "metadata": {
    "colab": {
     "base_uri": "https://localhost:8080/"
    },
    "id": "cjFq6pn5F6eG",
    "outputId": "5e5b198c-bc6e-4bb4-cec9-ba5708abf922"
   },
   "outputs": [
    {
     "name": "stdout",
     "output_type": "stream",
     "text": [
      "Epoch 1/6\n",
      "998/998 [==============================] - 159s 136ms/step - loss: 1.7305 - accuracy: 0.7175 - val_loss: 2.1656 - val_accuracy: 0.5446\n",
      "Epoch 2/6\n",
      "998/998 [==============================] - 141s 141ms/step - loss: 1.6701 - accuracy: 0.7270 - val_loss: 1.9383 - val_accuracy: 0.6457\n",
      "Epoch 3/6\n",
      "998/998 [==============================] - 148s 148ms/step - loss: 1.6639 - accuracy: 0.7349 - val_loss: 2.2758 - val_accuracy: 0.5384\n",
      "Epoch 4/6\n",
      "998/998 [==============================] - 148s 148ms/step - loss: 1.6710 - accuracy: 0.7358 - val_loss: 2.1895 - val_accuracy: 0.5778\n",
      "Epoch 5/6\n",
      "998/998 [==============================] - 136s 136ms/step - loss: 1.6223 - accuracy: 0.7537 - val_loss: 2.5516 - val_accuracy: 0.5338\n"
     ]
    }
   ],
   "source": [
    "# Compiling the model\n",
    "Age_cls_model.compile(optimizer='adam',\n",
    "                      loss='sparse_categorical_crossentropy',\n",
    "                      metrics=['accuracy'])\n",
    "\n",
    "# Early-stopping to restore the best weights\n",
    "callback = keras.callbacks.EarlyStopping(monitor='val_loss',\n",
    "                                         patience=3,\n",
    "                                         restore_best_weights=True)\n",
    "\n",
    "# Training the model\n",
    "history = Age_cls_model.fit(train_generator,\n",
    "                            epochs=6,\n",
    "                            batch_size=batch_size,\n",
    "                            steps_per_epoch=len(data_train)//batch_size,\n",
    "                            validation_steps=len(data_val)//batch_size,\n",
    "                            validation_data=val_generator,\n",
    "                            callbacks=[callback])\n",
    "\n",
    "# Saving the model with the trained weights\n",
    "Age_cls_model.save('AgeClassificationModel.h5')####################"
   ]
  },
  {
   "cell_type": "code",
   "execution_count": 65,
   "metadata": {
    "colab": {
     "base_uri": "https://localhost:8080/",
     "height": 568
    },
    "id": "RndhxJ_8GCll",
    "outputId": "63f55ee9-8297-40d1-9e64-4ee3e502deab"
   },
   "outputs": [
    {
     "name": "stdout",
     "output_type": "stream",
     "text": [
      "\n",
      "Training completed in  5 epochs\n",
      "The Accuracy on Validation Dataset is: 64.57%\n"
     ]
    },
    {
     "data": {
      "image/png": "[encoded data removed]",
      "text/plain": [
       "<Figure size 1400x700 with 2 Axes>"
      ]
     },
     "metadata": {},
     "output_type": "display_data"
    }
   ],
   "source": [
    "n_epochs = len(history.history['loss'])\n",
    "print(\"\\nTraining completed in \", n_epochs, \"epochs\")\n",
    "print('The Accuracy on Validation Dataset is: %.2f%%'%(np.max(history.history['val_accuracy'])*100))\n",
    "\n",
    "# Plotting the learning curve\n",
    "plot_learning_curve(n_epochs, history.history)"
   ]
  },
  {
   "cell_type": "markdown",
   "metadata": {
    "id": "XlTs6sMm5nuY"
   },
   "source": [
    "### **Testing**"
   ]
  },
  {
   "cell_type": "code",
   "execution_count": 66,
   "metadata": {
    "colab": {
     "base_uri": "https://localhost:8080/"
    },
    "id": "9_OubD-Z6sG7",
    "outputId": "58a1e948-d0a6-433d-c812-516ee2d8d9c6"
   },
   "outputs": [
    {
     "name": "stdout",
     "output_type": "stream",
     "text": [
      "3945/3945 [==============================] - 371s 94ms/step - loss: 1.9016 - accuracy: 0.6646\n",
      "Tets loss = 1.90\n",
      "Tets Accuracy = 66.46%\n"
     ]
    }
   ],
   "source": [
    "loss, acc = Age_cls_model.evaluate(test_generator, steps=len(data_test), verbose=1)\n",
    "\n",
    "print(f'Test loss = {loss:.2f}')\n",
    "print(f'Test Accuracy = {acc*100:.2f}%')"
   ]
  },
  {
   "cell_type": "markdown",
   "metadata": {
    "id": "sHbFhJhh42O4"
   },
   "source": [
    "## **Age Regression Model**"
   ]
  },
  {
   "cell_type": "code",
   "execution_count": 71,
   "metadata": {
    "colab": {
     "base_uri": "https://localhost:8080/"
    },
    "id": "ijg854BskQ4A",
    "outputId": "05f128cb-9c64-4c6f-fe8e-c57148359ce6"
   },
   "outputs": [
    {
     "name": "stdout",
     "output_type": "stream",
     "text": [
      "Model: \"sequential_1\"\n",
      "_________________________________________________________________\n",
      " Layer (type)                Output Shape              Param #   \n",
      "=================================================================\n",
      " dense_3 (Dense)             (None, 224, 224, 256)     1024      \n",
      "                                                                 \n",
      " conv2d (Conv2D)             (None, 224, 224, 16)      36880     \n",
      "                                                                 \n",
      " activation (Activation)     (None, 224, 224, 16)      0         \n",
      "                                                                 \n",
      " batch_normalization (BatchN  (None, 224, 224, 16)     64        \n",
      " ormalization)                                                   \n",
      "                                                                 \n",
      " max_pooling2d (MaxPooling2D  (None, 74, 74, 16)       0         \n",
      " )                                                               \n",
      "                                                                 \n",
      " dropout_2 (Dropout)         (None, 74, 74, 16)        0         \n",
      "                                                                 \n",
      " conv2d_1 (Conv2D)           (None, 74, 74, 32)        4640      \n",
      "                                                                 \n",
      " activation_1 (Activation)   (None, 74, 74, 32)        0         \n",
      "                                                                 \n",
      " batch_normalization_1 (Batc  (None, 74, 74, 32)       128       \n",
      " hNormalization)                                                 \n",
      "                                                                 \n",
      " max_pooling2d_1 (MaxPooling  (None, 37, 37, 32)       0         \n",
      " 2D)                                                             \n",
      "                                                                 \n",
      " dropout_3 (Dropout)         (None, 37, 37, 32)        0         \n",
      "                                                                 \n",
      " conv2d_2 (Conv2D)           (None, 37, 37, 32)        9248      \n",
      "                                                                 \n",
      " activation_2 (Activation)   (None, 37, 37, 32)        0         \n",
      "                                                                 \n",
      " batch_normalization_2 (Batc  (None, 37, 37, 32)       128       \n",
      " hNormalization)                                                 \n",
      "                                                                 \n",
      " max_pooling2d_2 (MaxPooling  (None, 18, 18, 32)       0         \n",
      " 2D)                                                             \n",
      "                                                                 \n",
      " dropout_4 (Dropout)         (None, 18, 18, 32)        0         \n",
      "                                                                 \n",
      " flatten (Flatten)           (None, 10368)             0         \n",
      "                                                                 \n",
      " dense_4 (Dense)             (None, 128)               1327232   \n",
      "                                                                 \n",
      " activation_3 (Activation)   (None, 128)               0         \n",
      "                                                                 \n",
      " batch_normalization_3 (Batc  (None, 128)              512       \n",
      " hNormalization)                                                 \n",
      "                                                                 \n",
      " dropout_5 (Dropout)         (None, 128)               0         \n",
      "                                                                 \n",
      " dense_5 (Dense)             (None, 1)                 129       \n",
      "                                                                 \n",
      " age_output (Activation)     (None, 1)                 0         \n",
      "                                                                 \n",
      "=================================================================\n",
      "Total params: 1,379,985\n",
      "Trainable params: 1,379,569\n",
      "Non-trainable params: 416\n",
      "_________________________________________________________________\n"
     ]
    }
   ],
   "source": [
    "# Building the Model\n",
    "\n",
    "Age_reg_model = tf.keras.Sequential([\n",
    "    Dense(256, input_shape=(D, D, 3)),\n",
    "\n",
    "    Conv2D(16, (3, 3), padding=\"same\"),\n",
    "    Activation(\"relu\"),\n",
    "    BatchNormalization(axis=-1),\n",
    "\n",
    "    MaxPooling2D(pool_size=(3, 3)),\n",
    "    Dropout(0.25),\n",
    "\n",
    "    Conv2D(32, (3, 3), padding=\"same\"),\n",
    "    Activation(\"relu\"),\n",
    "    BatchNormalization(axis=-1),\n",
    "\n",
    "    MaxPooling2D(pool_size=(2, 2)),\n",
    "    Dropout(0.25),\n",
    "\n",
    "    Conv2D(32, (3, 3), padding=\"same\"),\n",
    "    Activation(\"relu\"),\n",
    "    BatchNormalization(axis=-1),\n",
    "\n",
    "    MaxPooling2D(pool_size=(2, 2)),\n",
    "    Dropout(0.25),\n",
    "\n",
    "    Flatten(),\n",
    "\n",
    "    Dense(128),\n",
    "    Activation(\"relu\"),\n",
    "    BatchNormalization(),\n",
    "    Dropout(0.5),\n",
    "    \n",
    "    Dense(1),\n",
    "    Activation(\"linear\", name=\"age_output\"),\n",
    "\n",
    "])\n",
    "\n",
    "Age_reg_model.summary()"
   ]
  },
  {
   "cell_type": "code",
   "execution_count": 72,
   "metadata": {
    "id": "G0NybCMM3Fnh"
   },
   "outputs": [],
   "source": [
    "init_learning_rate = 1e-4\n",
    "epochs = 100\n",
    "\n",
    "optimizer = Adam(learning_rate=init_learning_rate, decay=init_learning_rate/epochs)\n",
    "\n",
    "Age_reg_model.compile(optimizer=optimizer,\n",
    "                      loss='mse',\n",
    "                      loss_weights=4.,\n",
    "                      metrics='mae')"
   ]
  },
  {
   "cell_type": "code",
   "execution_count": null,
   "metadata": {
    "id": "DiOBFueFdtMA"
   },
   "outputs": [],
   "source": [
    "batch_size = 32\n",
    "valid_batch_size = 32\n",
    "\n",
    "# Applying early-stopping to restore the best weights\n",
    "callback = tf.keras.callbacks.EarlyStopping(monitor='val_loss',\n",
    "                                            patience=5,\n",
    "                                            restore_best_weights=True)"
   ]
  },
  {
   "cell_type": "markdown",
   "metadata": {
    "id": "NHladz-bdv54"
   },
   "source": [
    "### **Training**"
   ]
  },
  {
   "cell_type": "code",
   "execution_count": 74,
   "metadata": {
    "colab": {
     "base_uri": "https://localhost:8080/"
    },
    "id": "WEd_vjWm1UED",
    "outputId": "99c37cee-4ad8-4130-f6db-3466ee199124"
   },
   "outputs": [
    {
     "metadata": {
      "tags": null
     },
     "name": "stdout",
     "output_type": "stream",
     "text": [
      "Epoch 1/10\n",
      "998/998 [==============================] - ETA: 0s - loss: 43.6289 - mae: 2.7157"
     ]
    },
    {
     "metadata": {
      "tags": null
     },
     "name": "stderr",
     "output_type": "stream",
     "text": [
      "WARNING:absl:Found untraced functions such as _jit_compiled_convolution_op, _jit_compiled_convolution_op, _jit_compiled_convolution_op while saving (showing 3 of 3). These functions will not be directly callable after loading.\n"
     ]
    },
    {
     "metadata": {
      "tags": null
     },
     "name": "stdout",
     "output_type": "stream",
     "text": [
      "998/998 [==============================] - 328s 328ms/step - loss: 43.6289 - mae: 2.7157 - val_loss: 74.3669 - val_mae: 3.1622\n",
      "Epoch 2/10\n",
      "998/998 [==============================] - ETA: 0s - loss: 22.2021 - mae: 1.8312"
     ]
    },
    {
     "metadata": {
      "tags": null
     },
     "name": "stderr",
     "output_type": "stream",
     "text": [
      "WARNING:absl:Found untraced functions such as _jit_compiled_convolution_op, _jit_compiled_convolution_op, _jit_compiled_convolution_op while saving (showing 3 of 3). These functions will not be directly callable after loading.\n"
     ]
    },
    {
     "metadata": {
      "tags": null
     },
     "name": "stdout",
     "output_type": "stream",
     "text": [
      "998/998 [==============================] - 281s 282ms/step - loss: 22.2021 - mae: 1.8312 - val_loss: 867.0416 - val_mae: 6.0615\n",
      "Epoch 3/10\n",
      "998/998 [==============================] - ETA: 0s - loss: 14.3834 - mae: 1.4514"
     ]
    },
    {
     "metadata": {
      "tags": null
     },
     "name": "stderr",
     "output_type": "stream",
     "text": [
      "WARNING:absl:Found untraced functions such as _jit_compiled_convolution_op, _jit_compiled_convolution_op, _jit_compiled_convolution_op while saving (showing 3 of 3). These functions will not be directly callable after loading.\n"
     ]
    },
    {
     "metadata": {
      "tags": null
     },
     "name": "stdout",
     "output_type": "stream",
     "text": [
      "998/998 [==============================] - 272s 272ms/step - loss: 14.3834 - mae: 1.4514 - val_loss: 165.4715 - val_mae: 2.8129\n",
      "Epoch 4/10\n",
      "998/998 [==============================] - ETA: 0s - loss: 12.1455 - mae: 1.3470"
     ]
    },
    {
     "metadata": {
      "tags": null
     },
     "name": "stderr",
     "output_type": "stream",
     "text": [
      "WARNING:absl:Found untraced functions such as _jit_compiled_convolution_op, _jit_compiled_convolution_op, _jit_compiled_convolution_op while saving (showing 3 of 3). These functions will not be directly callable after loading.\n"
     ]
    },
    {
     "metadata": {
      "tags": null
     },
     "name": "stdout",
     "output_type": "stream",
     "text": [
      "998/998 [==============================] - 273s 274ms/step - loss: 12.1455 - mae: 1.3470 - val_loss: 37.8447 - val_mae: 1.9890\n",
      "Epoch 5/10\n",
      "998/998 [==============================] - ETA: 0s - loss: 10.7807 - mae: 1.2741"
     ]
    },
    {
     "metadata": {
      "tags": null
     },
     "name": "stderr",
     "output_type": "stream",
     "text": [
      "WARNING:absl:Found untraced functions such as _jit_compiled_convolution_op, _jit_compiled_convolution_op, _jit_compiled_convolution_op while saving (showing 3 of 3). These functions will not be directly callable after loading.\n"
     ]
    },
    {
     "metadata": {
      "tags": null
     },
     "name": "stdout",
     "output_type": "stream",
     "text": [
      "998/998 [==============================] - 272s 273ms/step - loss: 10.7807 - mae: 1.2741 - val_loss: 65.3613 - val_mae: 1.8503\n",
      "Epoch 6/10\n",
      "998/998 [==============================] - ETA: 0s - loss: 9.6662 - mae: 1.2041"
     ]
    },
    {
     "metadata": {
      "tags": null
     },
     "name": "stderr",
     "output_type": "stream",
     "text": [
      "WARNING:absl:Found untraced functions such as _jit_compiled_convolution_op, _jit_compiled_convolution_op, _jit_compiled_convolution_op while saving (showing 3 of 3). These functions will not be directly callable after loading.\n"
     ]
    },
    {
     "metadata": {
      "tags": null
     },
     "name": "stdout",
     "output_type": "stream",
     "text": [
      "998/998 [==============================] - 272s 272ms/step - loss: 9.6662 - mae: 1.2041 - val_loss: 58.4527 - val_mae: 2.1175\n",
      "Epoch 7/10\n",
      "998/998 [==============================] - ETA: 0s - loss: 9.2170 - mae: 1.1748"
     ]
    },
    {
     "metadata": {
      "tags": null
     },
     "name": "stderr",
     "output_type": "stream",
     "text": [
      "WARNING:absl:Found untraced functions such as _jit_compiled_convolution_op, _jit_compiled_convolution_op, _jit_compiled_convolution_op while saving (showing 3 of 3). These functions will not be directly callable after loading.\n"
     ]
    },
    {
     "metadata": {
      "tags": null
     },
     "name": "stdout",
     "output_type": "stream",
     "text": [
      "998/998 [==============================] - 273s 273ms/step - loss: 9.2170 - mae: 1.1748 - val_loss: 214.8323 - val_mae: 2.5559\n",
      "Epoch 8/10\n",
      "998/998 [==============================] - ETA: 0s - loss: 8.3575 - mae: 1.1189"
     ]
    },
    {
     "metadata": {
      "tags": null
     },
     "name": "stderr",
     "output_type": "stream",
     "text": [
      "WARNING:absl:Found untraced functions such as _jit_compiled_convolution_op, _jit_compiled_convolution_op, _jit_compiled_convolution_op while saving (showing 3 of 3). These functions will not be directly callable after loading.\n"
     ]
    },
    {
     "metadata": {
      "tags": null
     },
     "name": "stdout",
     "output_type": "stream",
     "text": [
      "998/998 [==============================] - 272s 272ms/step - loss: 8.3575 - mae: 1.1189 - val_loss: 364.8235 - val_mae: 4.5967\n",
      "Epoch 9/10\n",
      "998/998 [==============================] - ETA: 0s - loss: 8.2600 - mae: 1.1095"
     ]
    },
    {
     "metadata": {
      "tags": null
     },
     "name": "stderr",
     "output_type": "stream",
     "text": [
      "WARNING:absl:Found untraced functions such as _jit_compiled_convolution_op, _jit_compiled_convolution_op, _jit_compiled_convolution_op while saving (showing 3 of 3). These functions will not be directly callable after loading.\n"
     ]
    },
    {
     "metadata": {
      "tags": null
     },
     "name": "stdout",
     "output_type": "stream",
     "text": [
      "998/998 [==============================] - 272s 272ms/step - loss: 8.2600 - mae: 1.1095 - val_loss: 26.4410 - val_mae: 1.5964\n",
      "Epoch 10/10\n",
      "998/998 [==============================] - ETA: 0s - loss: 7.7766 - mae: 1.0783"
     ]
    },
    {
     "metadata": {
      "tags": null
     },
     "name": "stderr",
     "output_type": "stream",
     "text": [
      "WARNING:absl:Found untraced functions such as _jit_compiled_convolution_op, _jit_compiled_convolution_op, _jit_compiled_convolution_op while saving (showing 3 of 3). These functions will not be directly callable after loading.\n"
     ]
    },
    {
     "metadata": {
      "tags": null
     },
     "name": "stdout",
     "output_type": "stream",
     "text": [
      "\b\b\b\b\b\b\b\b\b\b\b\b\b\b\b\b\b\b\b\b\b\b\b\b\b\b\b\b\b\b\b\b\b\b\b\b\b\b\b\b\b\b\b\b\b\b\b\b\b\b\b\b\b\b\b\b\b\b\b\b\b\b\b\b\b\b\b\b\b\b\b\b\b\b\b\b\b\b\b\r",
      "998/998 [==============================] - 273s 273ms/step - loss: 7.7766 - mae: 1.0783 - val_loss: 110.6329 - val_mae: 2.8880\n"
     ]
    }
   ],
   "source": [
    "# Training the model\n",
    "history = Age_reg_model.fit(train_generator,\n",
    "                            epochs=10,\n",
    "                            batch_size=batch_size,\n",
    "                            steps_per_epoch=len(data_train)//batch_size,\n",
    "                            validation_steps=len(data_val)//batch_size,\n",
    "                            validation_data=val_generator,\n",
    "                            callbacks=[callback])\n",
    "\n",
    "# Saving the Model in a h5 file\n",
    "Age_reg_model.save('AgeRegressionModel.h5')"
   ]
  },
  {
   "cell_type": "markdown",
   "metadata": {
    "id": "6GgDmo8md0F8"
   },
   "source": [
    "### **Testing**"
   ]
  },
  {
   "cell_type": "code",
   "execution_count": 79,
   "metadata": {
    "colab": {
     "base_uri": "https://localhost:8080/"
    },
    "id": "oTdWlqa4URNf",
    "outputId": "cae5cc61-dde0-45d3-d2ab-77124489d946"
   },
   "outputs": [
    {
     "name": "stdout",
     "output_type": "stream",
     "text": [
      "3945/3945 [==============================] - 397s 101ms/step - loss: 98.3184 - mae: 2.7861\n",
      "Test loss = 98.32\n",
      "Test MAE = 2.79\n"
     ]
    }
   ],
   "source": [
    "loss, mae = Age_reg_model.evaluate(test_generator, steps=len(data_test), verbose=1)\n",
    "\n",
    "print(f'Test loss = {loss:.2f}')\n",
    "print(f'Test MAE = {mae:.2f}')"
   ]
  },
  {
   "cell_type": "code",
   "execution_count": null,
   "metadata": {
    "id": "azBnBQQ4e_gd"
   },
   "outputs": [],
   "source": []
  }
 ],
 "metadata": {
  "accelerator": "GPU",
  "colab": {
   "collapsed_sections": [
    "D2lvzcj2P-Mk",
    "cFL1yfrEQUjS",
    "1nO1X_b9igWW",
    "Z7SV8_aXhXcf",
    "ZeA1xckG48o4",
    "sHbFhJhh42O4"
   ],
   "provenance": []
  },
  "gpuClass": "standard",
  "kernelspec": {
   "display_name": "Python 3 (ipykernel)",
   "language": "python",
   "name": "python3"
  },
  "language_info": {
   "codemirror_mode": {
    "name": "ipython",
    "version": 3
   },
   "file_extension": ".py",
   "mimetype": "text/x-python",
   "name": "python",
   "nbconvert_exporter": "python",
   "pygments_lexer": "ipython3",
   "version": "3.9.12"
  }
 },
 "nbformat": 4,
 "nbformat_minor": 1
}
